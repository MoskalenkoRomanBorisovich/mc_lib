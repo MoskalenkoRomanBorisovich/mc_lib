{
 "cells": [
  {
   "cell_type": "code",
   "execution_count": 35,
   "id": "70844827",
   "metadata": {},
   "outputs": [],
   "source": [
    "import h5py\n",
    "from mc_lib.observable import RealObservable, read_observable_hdf5, write_observable_hdf5"
   ]
  },
  {
   "cell_type": "code",
   "execution_count": 68,
   "id": "48164c68",
   "metadata": {},
   "outputs": [],
   "source": [
    "# init observables\n",
    "\n",
    "a = RealObservable()\n",
    "b = RealObservable()\n",
    "c = RealObservable()\n",
    "\n",
    "for i in range(20):\n",
    "    a.add_measurement(i)\n",
    "    b.add_measurement(i+20)\n",
    "    c.add_measurement(i+40)"
   ]
  },
  {
   "cell_type": "code",
   "execution_count": 69,
   "id": "7f52c806",
   "metadata": {},
   "outputs": [
    {
     "name": "stdout",
     "output_type": "stream",
     "text": [
      "groups in file: ['obs_a', 'obs_b', 'obs_c']\n"
     ]
    }
   ],
   "source": [
    "# save all observables in one hdf5 file\n",
    "\n",
    "with h5py.File(\"example.hdf5\", \"w\") as f:\n",
    "    # create a group for observable\n",
    "    a_group = f.create_group('obs_a')\n",
    "    # pass obsservable and group in function\n",
    "    write_observable_hdf5(a, a_group)\n",
    "    \n",
    "    b_group = f.create_group('obs_b')\n",
    "    write_observable_hdf5(b, b_group)\n",
    "    \n",
    "    c_group = f.create_group('obs_c')\n",
    "    write_observable_hdf5(c, c_group)\n",
    "    \n",
    "    # now in examples.hdf5 are 3 groups, one for each observable\n",
    "    print('groups in file:', list(f.keys()))"
   ]
  },
  {
   "cell_type": "code",
   "execution_count": 70,
   "id": "c91e3034",
   "metadata": {},
   "outputs": [],
   "source": [
    "# load observables from file\n",
    "\n",
    "with h5py.File(\"example.hdf5\", \"r\") as f:\n",
    "    # get group with observable\n",
    "    a_group = f['obs_a']\n",
    "    # read from group\n",
    "    a_read = read_observable_hdf5(a_group)\n",
    "    \n",
    "    # or by passing directly\n",
    "    b_read = read_observable_hdf5(f['obs_b'])\n",
    "    c_read = read_observable_hdf5(f['obs_c'])"
   ]
  },
  {
   "cell_type": "code",
   "execution_count": 71,
   "id": "9847d56a",
   "metadata": {},
   "outputs": [
    {
     "name": "stdout",
     "output_type": "stream",
     "text": [
      "   loaded, original\n",
      "a: 9.5,    9.5\n",
      "b: 29.5,   29.5\n",
      "c: 49.5,   49.5\n"
     ]
    }
   ],
   "source": [
    "print('   loaded, original')\n",
    "print(f'a: {a_read.mean},    {a.mean}')\n",
    "print(f'b: {b_read.mean},   {b.mean}')\n",
    "print(f'c: {c_read.mean},   {c.mean}')"
   ]
  }
 ],
 "metadata": {
  "kernelspec": {
   "display_name": "Python 3 (ipykernel)",
   "language": "python",
   "name": "python3"
  },
  "language_info": {
   "codemirror_mode": {
    "name": "ipython",
    "version": 3
   },
   "file_extension": ".py",
   "mimetype": "text/x-python",
   "name": "python",
   "nbconvert_exporter": "python",
   "pygments_lexer": "ipython3",
   "version": "3.8.12"
  }
 },
 "nbformat": 4,
 "nbformat_minor": 5
}
